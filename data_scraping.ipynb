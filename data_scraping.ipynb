{
 "cells": [
  {
   "cell_type": "markdown",
   "metadata": {
    "collapsed": true,
    "pycharm": {
     "name": "#%% md\n"
    }
   },
   "source": [
    "# Data Scraping"
   ]
  },
  {
   "cell_type": "code",
   "execution_count": 1,
   "outputs": [],
   "source": [
    "import requests\n",
    "from bs4 import BeautifulSoup\n",
    "import os\n",
    "import pandas as pd\n",
    "import time\n",
    "import random\n",
    "from dateutil import parser\n",
    "import csv"
   ],
   "metadata": {
    "collapsed": false,
    "pycharm": {
     "name": "#%%\n"
    }
   }
  },
  {
   "cell_type": "code",
   "execution_count": 2,
   "outputs": [],
   "source": [
    "headers = {\n",
    "    'authority': 'www.glassdoor.com',\n",
    "    'cache-control': 'max-age=0',\n",
    "    'sec-ch-ua': '\" Not A;Brand\";v=\"99\", \"Chromium\";v=\"98\", \"Google Chrome\";v=\"98\"',\n",
    "    'sec-ch-ua-mobile': '?0',\n",
    "    'sec-ch-ua-platform': '\"Windows\"',\n",
    "    'upgrade-insecure-requests': '1',\n",
    "    'user-agent': 'Mozilla/5.0 (Windows NT 10.0; Win64; x64) AppleWebKit/537.36 (KHTML, like Gecko) Chrome/98.0.4758.102 Safari/537.36',\n",
    "    'accept': 'text/html,application/xhtml+xml,application/xml;q=0.9,image/avif,image/webp,image/apng,*/*;q=0.8,application/signed-exchange;v=b3;q=0.9',\n",
    "    'sec-fetch-site': 'none',\n",
    "    'sec-fetch-mode': 'navigate',\n",
    "    'sec-fetch-user': '?1',\n",
    "    'sec-fetch-dest': 'document',\n",
    "    'accept-language': 'en-US,en;q=0.9',\n",
    "    'cookie': 'G_AUTHUSER_H=0; __qca=I0-1759143506-1645764724189; gdId=c208b991-0d2b-4f4f-9995-2338a57efcff; trs=direct:direct:direct:2022-02-16+19%3A20%3A13.356:undefined:undefined; _optionalConsent=true; _gcl_au=1.1.1885907210.1645068017; __pdst=68c0082dc06a4f868275c4e3bd6f396c; _rdt_uuid=1645068017100.47e6d24e-b221-41f2-a176-33369ceb122d; _fbp=fb.1.1645068017196.621785673; _pin_unauth=dWlkPVltVm1Nak00WkdRdFlXVmtOUzAwTUdFMkxXSTBOMkV0T1dVMU9XRmxNR1UxWWpNdw; ki_s=213982%3A0.0.0.0.0; __gads=ID=cb6bfb74b5348cd9:T=1645068018:S=ALNI_MbB7WGLcclL2yYK6Y6gWYsZ1wQaiA; G_ENABLED_IDPS=google; JSESSIONID=6EF49937A0E3428C92F6BC136630012C; GSESSIONID=c208b991-0d2b-4f4f-9995-2338a57efcff+1645764587920; cass=1; gdsid=1645764587920:1645764587920:203FA190F31DBD5BBF29D59E106965F2; __cf_bm=cKvmzv3aUbyPDV3f49jB7geK7bj8y3OFPWM1QF_TM2c-1645764588-0-AZil7xf0iM8UszdTWNqF5Ni04kKQxJiDjtP1tRKcXo7WVBCfWIGR9qZ4YG+VMx6tcvUagJwX0BYniioEI6MvzOk=; _gid=GA1.2.1967346015.1645764591; ht=%7B%22quantcast%22%3A%5B%22D%22%5D%7D; SameSite=None; uc=8013A8318C98C5172F146593038245B7AFB20BB0C9B777F58ABE20A54F73D773590DF2FEB90B9DB8337DB3A2235D005AB9C5BCB4F5316AFAF23DA13C0F06AB6686A05010474C22614801A699E781272DF3BB3B23DDA7D630E676A586DDAEC10BD0FADAB32252EB3F41BAC915AE176E8B5A5A8FE784A3899A9D5CDA1EF9D13D71B090BBE0ED3DAE06B3E637002C7B929C; at=6O1sVgmDPq8afK6TQ1XtvLQ4lZrU31LL6xnqojX1zMe85kWFy3T77aC66Feuuzg--60xBmMv0tTny7GCBJMoqoO4MfNWArt7d96VuYMBVQdOGa7RKpeLsEmj4YKVCMG1e_D0_1ehk8bHw8BzQ3t108Ng6bWL9HPKNjFDi9Edw7c_JwOgmHeJSyeV5f8WD8ePSeWKTOTp4hPMN-8N4rwvArHDTEUwotUsIF__ZW3JFnJfxRLP--BgUW-ojixqIls7m10tLgrtTTtll4etRxkvzms7QLiNgR8mAZfAerixIU--uWeR2GFg_wXiXY9bgN-BcW5yJ4iDhY6YAeAdYibF_72uNIU3QUIbPgrV7pfRezMg3HqIsqVg87DR67Zn46bEZbffd1EZqL4pCLwmriC5P6gP61y4EbujdtfWV7thdx_uNni547C0EOekmxzDeMHCJoJGWF__-bNwGnDo1gyqEPGktYI3xXdxoCkgnEcWApqNVEprnoby805SAuu1QoWY3da1hacCY6fHOuESbwI96dYV2IFD0eHb_5EkroqMmLlBPj3WW2IJEpzu3AOV6a2ABlaf8S2gwwpwyF9LbcytePTxxWJuQUsGCLlEC10YkoaEtFhUoqLJcIQBvuX7yXQAN_l0zA5MuoNB_zRwFqBfd05anlUaKYjPXCXCjWDenOBF93tvY19AJhgC6D792xcI8h7nq_Bx4_FeLLkKsYMXtbzUwJfBM8cZ5npvT9rtQZ8Ex-kwBDcNKieOc5ENW-Glu8N6MJJ3CIlc9zJylnykDPmXs5rU55LtgGnAINcaobFmJzFJ5ACtbDqgV2pkF9AqFmJWCII3WmfKhJAkCzL1bCIB3cEGkW2-fqaye1xXUQmgNNLNWlNcq27uecqVq6xP-biD7iDU; __ssid=1b29463f06bccd802a166c7e4685e91; indeedCtk=1fsnjh74vu2il802; alr=https%3A%2F%2Fwww.google.com%2F; asst=1645764736.2; JSESSIONID_UP_APP=64B48F15FBEE1E8E93E2676F2B803646; JSESSIONID_JX_APP=21E4230FC62807946FB2391A649A2478; ki_r=; bs=aaHYnyWwuuOvZHYgnyBDQA:BZDLRzeQ_3B9QLTAXtjPD2b7UCbpMVoxvR6rRxq03d_wYPYXbPhIF93MKu1xJNUchu5wxNL6CfeVIUXUdzCgBgdUScoS7UwqbXJ8OXIOhyk:xhtmPe88WmUEarRrcByeSmRuAC8j0Xu2DSt_Jr30rlk; _dc_gtm_UA-2595786-1=1; OptanonConsent=isGpcEnabled=0&datestamp=Thu+Feb+24+2022+22%3A54%3A17+GMT-0600+(Central+Standard+Time)&version=6.28.0&isIABGlobal=false&hosts=&consentId=6daa3995-a658-4804-ac70-36a767efde57&interactionCount=1&landingPath=NotLandingPage&groups=C0001%3A1%2CC0003%3A1%2CC0002%3A1%2CC0004%3A1%2CC0017%3A1&AwaitingReconsent=false; ki_t=1645068017412%3B1645764591960%3B1645764857864%3B2%3B17; _ga=GA1.2.503567415.1645068016; fpvc=6; AWSALB=LDDxl+H2Lm++aGdqbnCUt55d9qlfLw40C1apykKR3CAExRuJyhaoCngVVgRRD0CT6FpPE7j/+Zvbr+G28qw8ndlEtA5lVOzdwggIpkeMcrREYPihYHTqRSEk/UVUGMgKbaGWY8PGBqf7WsEtRcbp76M2obJs4LN5bmjUzwPOfbwJEGVs/EtQGM5V8yFJGJBpMC5WFz6VqhLMZtItNKfWvPrWLzQ8UiS8FNXqCDnbq5otUYmOxbke6KaKLT1TL+8=; AWSALBCORS=LDDxl+H2Lm++aGdqbnCUt55d9qlfLw40C1apykKR3CAExRuJyhaoCngVVgRRD0CT6FpPE7j/+Zvbr+G28qw8ndlEtA5lVOzdwggIpkeMcrREYPihYHTqRSEk/UVUGMgKbaGWY8PGBqf7WsEtRcbp76M2obJs4LN5bmjUzwPOfbwJEGVs/EtQGM5V8yFJGJBpMC5WFz6VqhLMZtItNKfWvPrWLzQ8UiS8FNXqCDnbq5otUYmOxbke6KaKLT1TL+8=; ADRUM_BTa=R:73|g:6faedccf-a96a-4afd-bed5-dfbe876d3545|n:glassdoor_17d346a0-2ec1-4454-86b0-73b3b787aee9; _ga_RC95PMVB3H=GS1.1.1645764590.2.1.1645764874.32; _ga_844LX017SK=GS1.1.1645764590.1.1.1645764874.0',\n",
    "}\n",
    "\n",
    "params = (\n",
    "    ('sort.sortType', 'RD'),\n",
    "    ('sort.ascending', 'false'),\n",
    ")\n",
    "\n",
    "response = requests.get('https://www.glassdoor.com/Job/jobs.htm?sc.keyword=&clickSource=searchBox&locId=1128808&locT=C&locName=Chicago%2C%20IL', headers=headers, params=params)"
   ],
   "metadata": {
    "collapsed": false,
    "pycharm": {
     "name": "#%%\n"
    }
   }
  },
  {
   "cell_type": "code",
   "execution_count": 3,
   "outputs": [],
   "source": [
    "def helper(soup, date_lst, interview_lst, question_lst):\n",
    "    \"\"\"\n",
    "    Inputs:\n",
    "        soup(obj.): a soup object\n",
    "        date_lst(list): a list to store the date scraped\n",
    "        interview_lst(list): a list to store the interview scraped\n",
    "        question_lst(list): a list to store the interview question scraped\n",
    "    Return:\n",
    "        None\n",
    "    \"\"\"\n",
    "    for element in soup.find_all('p', class_='mt-0 mb-xxsm d-flex justify-content-between css-13r90be e1lscvyf1'):\n",
    "        d_time = parser.parse(element.find('time').text).date()\n",
    "        date_lst.append(d_time)\n",
    "\n",
    "    for element in soup.find_all('p', class_='css-lyyc14 css-w00cnv mt-xsm mb-std'):\n",
    "        interview_lst.append(element.text.replace('\\n', ' '))\n",
    "\n",
    "    for element0 in soup.find_all('div', class_='col-12'):\n",
    "        if element0.find('ul', class_ = 'pl-0 css-1bzau0h e151mjlk2'):\n",
    "            question_lst.append(element0.find('ul', class_ = 'pl-0 css-1bzau0h e151mjlk2').text.replace('Answer Question',''))\n",
    "        else:\n",
    "            question_lst.append('NA')"
   ],
   "metadata": {
    "collapsed": false,
    "pycharm": {
     "name": "#%%\n"
    }
   }
  },
  {
   "cell_type": "code",
   "execution_count": 4,
   "outputs": [],
   "source": [
    "def scrap_web_google():\n",
    "    \"\"\"\n",
    "    Scrap the data for Google on Glassdoor\n",
    "    \"\"\"\n",
    "    with open('google.csv', 'w', newline=\"\", encoding='utf-8') as csvfile:\n",
    "        date_lst = []\n",
    "        interview_lst = []\n",
    "        question_lst = []\n",
    "        output = csv.writer(csvfile)\n",
    "        output.writerow(['Date', 'Interview', 'Question'])\n",
    "        with requests.get('https://www.glassdoor.com/Interview/Google-Interview-Questions-E9079.htm', headers=headers, params=params, stream=True) as r:\n",
    "            soup = BeautifulSoup(r.text, 'html.parser')\n",
    "            helper(soup, date_lst, interview_lst, question_lst)\n",
    "            output.writerows([list(i) for i in zip(date_lst, interview_lst, question_lst)])\n",
    "        for i in range(2, 1500):\n",
    "            date_lst = []\n",
    "            interview_lst = []\n",
    "            question_lst = []\n",
    "            time.sleep(random.randint(2, 10))\n",
    "            with requests.get('https://www.glassdoor.com/Interview/Google-Interview-Questions-E9079_P{page}.htm'.format(page=i), headers=headers, params=params, stream=True) as r:\n",
    "                soup = BeautifulSoup(r.text, 'html.parser')\n",
    "                helper(soup, date_lst, interview_lst, question_lst)\n",
    "                output.writerows([list(i) for i in zip(date_lst, interview_lst, question_lst)])"
   ],
   "metadata": {
    "collapsed": false,
    "pycharm": {
     "name": "#%%\n"
    }
   }
  },
  {
   "cell_type": "code",
   "execution_count": 5,
   "outputs": [],
   "source": [
    "scrap_web_google()"
   ],
   "metadata": {
    "collapsed": false,
    "pycharm": {
     "name": "#%%\n"
    }
   }
  },
  {
   "cell_type": "code",
   "execution_count": null,
   "outputs": [],
   "source": [
    "headers = {\n",
    "    'authority': 'www.glassdoor.com',\n",
    "    'cache-control': 'max-age=0',\n",
    "    'sec-ch-ua': '\" Not A;Brand\";v=\"99\", \"Chromium\";v=\"98\", \"Google Chrome\";v=\"98\"',\n",
    "    'sec-ch-ua-mobile': '?0',\n",
    "    'sec-ch-ua-platform': '\"Windows\"',\n",
    "    'upgrade-insecure-requests': '1',\n",
    "    'user-agent': 'Mozilla/5.0 (Windows NT 10.0; Win64; x64) AppleWebKit/537.36 (KHTML, like Gecko) Chrome/98.0.4758.102 Safari/537.36',\n",
    "    'accept': 'text/html,application/xhtml+xml,application/xml;q=0.9,image/avif,image/webp,image/apng,*/*;q=0.8,application/signed-exchange;v=b3;q=0.9',\n",
    "    'sec-fetch-site': 'none',\n",
    "    'sec-fetch-mode': 'navigate',\n",
    "    'sec-fetch-user': '?1',\n",
    "    'sec-fetch-dest': 'document',\n",
    "    'accept-language': 'en-US,en;q=0.9',\n",
    "    'cookie': 'G_AUTHUSER_H=0; __qca=I0-614568025-1645675574050; gdId=8ef3ca8f-c6ab-4229-984f-836c0e50cc74; trs=https%3A%2F%2Fwww.google.com%2F:SEO:SEO:2022-02-16+19%3A15%3A28.635:undefined:undefined; G_ENABLED_IDPS=google; _optionalConsent=true; _gcl_au=1.1.1520881057.1645067731; _rdt_uuid=1645067731229.bd5dc2f9-980d-4523-8f52-93b654449406; __pdst=b6385663b09344cab93e4c5dee271e00; _gaexp=GAX1.2.pYgpv90rRNC40H5kkFZirQ.19130.1; _fbp=fb.1.1645067731411.1706211231; _pin_unauth=dWlkPU16WmlZVE0xWWpVdE9UUTROUzAwWVRkakxXSmlPV1F0Tm1JM01tUmxNV0kzTXpZeQ; drift_aid=69b753fa-0f76-4133-9073-a14bb591cd34; driftt_aid=69b753fa-0f76-4133-9073-a14bb591cd34; gclid=Cj0KCQiA3rKQBhCNARIsACUEW_apNRSfPRgKHtZ71UXWbx3FbfmJZyjpLkhnt0xjJLd61WDFBL8DaQQaApWKEALw_wcB; __gads=ID=1e25dbac7b40cf6d:T=1645067757:S=ALNI_Mb6V582ziqef3pnOio4MN5u6Y12lw; ki_u=2f048bb4-72da-efb7-3fcf-626e; ki_s=213982%3A0.0.0.0.0%3B218147%3A1.0.0.0.2; indeedCtk=1fsfr0o28u1fb801; cass=1; _gid=GA1.2.222016421.1645666248; ht=%7B%22quantcast%22%3A%5B%22D%22%5D%7D; JSESSIONID_UP_APP=1DBC5B278AF6484D29626D46C1918E20; JSESSIONID_JX_APP=1B6A08363CB2908D37D919FAE5515225; GSESSIONID=8ef3ca8f-c6ab-4229-984f-836c0e50cc74+1645666246308; _gcl_aw=GCL.1645670846.Cj0KCQiA09eQBhCxARIsAAYRiykiuaxAOLesCJ3YlSTnMRnwXGoeAaTFdYUmRjCHy_1IpXBjt9aXVmcaAqfREALw_wcB; _gac_UA-2595786-1=1.1645670847.Cj0KCQiA09eQBhCxARIsAAYRiykiuaxAOLesCJ3YlSTnMRnwXGoeAaTFdYUmRjCHy_1IpXBjt9aXVmcaAqfREALw_wcB; ki_r=; g_state={\"i_l\":1,\"i_p\":1645679486216}; uc=8013A8318C98C517E3CFBDDD0B55DDB0707D539B2805FC918DE5F9156C2BA9CF2A70FF309AE201C56F06A39ED799E316FA3A449DA2CFF5C1DF51EBD8A6AE0D8222281CECB26A2740AB65D4F6F06D28F049EF40E1676DE8FC58B77490C81F417949638519377F928E355F118CAAB3C201D09116207BD8D82F2EC07C40078089D77292B1DCFD9124E0DDB7F1A369885641; G_AUTHUSER_H=0; asst=1645678840.0; JSESSIONID=B2AF6A4896927C99881E4A2E3E3E7779; __cf_bm=SHXYFaiLtMaRAWHw5mjrJBuEkRiybYkam.YQYtCqyGw-1645682348-0-AY4MeSMB0t5zZw6OC0vzw9w1LHjt2Ucru7VUmAXR4pDrm2WVjQ2ybRDEcArlu43qM+rty57+PDdRsyxXVvGtof8=; at=Vsq_-KqTt5tOY400ooFmTfbRZ1VtLthvtUTTgi1E2Bvl16qm1ZZdqCRfZz-V-3dncHTcrLhfcO-8XJsS4AN6_VEinFEs9IrMfmMJ8u0XG5DECxpC-noFUZE9Jv-uxcv3IJrqpcR4IusxpXZ6lCn2p53hjZQxgO40u5TUXIPkyDyCV48a9AS6-hb3FyOSGMVEU8yy-LcWyT2-rclpKtkUaXIvgv0Kmv3RDeTVH_k2glGDlSL5JoHxPF5Q18lwIRR7ZOSVXTaOb7Sy1Ks9ZGj2nW0BvaXJJM_zPea0XIos_Kg-Z-2rvWr_-nM2givHGPsGMO8s8Fz-T2bgH9Vo77BJJcNEMLTWQiWDfh3nae8U4dhN6JWJvBeezJ54g0a3At26FxjSf_rvhS5pVChzJFD3fvFp1iXeJeSQabiy2-6KWlFacrZwCqWTDWxHe9egPiUNRXQy__tqC5ZJprwnRfVUePXnJtg2ZTbh6d_BxmpUyzd_aR30I_GEGppGCOa0rUZ1z3V1kFwWCkgIHA4BjcSMNxR3RXm91Mk5972p79PVw9lBC07xkhoyJewk7klsy8Y95JyIyFG5-wTMn5YO2njRrSVkzuwNVN9cHqxpToWuchpFAF12KEYC_re7PlLQz8GjPeBYcvuA4DxOg-LWcJDr7f8ChL-H0_QPaK-Fii28_P5Ok3Eyf2fkvjMX7ru2yIX7DEB38P58aAYKPcVKdV1owz4SR2YNJdkmgonbDYauSkz6H1OGBNboatr9nVeHbqMnB0F35sFock8PgjlKG7WsVaCNSARnjMvf4lysEtkOJ0b2ZDmOK6op_osKnotFx-s1jAidH9OT0zgmogKEykmfaBNkDW9lre1Bz_uaO8erQCpG94CMOJNrbWxsoxePV9qqoG1KCg; SameSite=None; _ga=GA1.2.312675199.1645067731; OptanonConsent=isGpcEnabled=0&datestamp=Thu+Feb+24+2022+00%3A09%3A33+GMT-0600+(Central+Standard+Time)&version=6.28.0&isIABGlobal=false&hosts=&consentId=9fc62b5e-f280-4d5d-8b62-bdfca0c52bbb&interactionCount=1&landingPath=NotLandingPage&groups=C0001%3A1%2CC0003%3A1%2CC0002%3A1%2CC0004%3A1%2CC0017%3A1&AwaitingReconsent=false; ki_t=1645067757578%3B1645666249446%3B1645682974748%3B3%3B64; bs=YlRfGVKYGlZNMeoKXpEbhQ:E1ZhSVhNTHjQQqBxRykS_2t-LcRCiYrBJA8gOWHSz9TaU2XoG9Fb8Dpd_dD3d3LcrlSKSfOL1KBJEA3OJqToq14kxOMbUQY2C-Ij-6W83ck:Jx5iHyt27_SJfzzFUyohShrcVPKFpuIh2XWmbmvxWkY; _dc_gtm_UA-2595786-1=1; _ga_RC95PMVB3H=GS1.1.1645677620.5.1.1645682978.60; gdsid=1645666246308:1645682979264:F2F97DF9834BD04141AE82D2499F539F; fpvc=71; AWSALB=8D/0Y0XZYkiAXhwezofaJaxkYqTVpEBq8tvtWSzk0UJ/DnIfw2Yo6dZ0wuvejHK6jPX9R1S0mx7R3cM0SgTwa2S5ZUPY5XfzmvRiP1sPy7k7rMrrE/69VblhiYPTe8LqDOpP1EGbcvnaBvisAvCDXXrYAMLTaqWdf3DwwJaC2Ck8bJJp2ooEOv6Q7ogmyZy0yQy2Npp+DNipT/2K2xOOtQ8/HI3YI0lzSW3YbFdyfM2S+NYuEToatoZy2JsmTcirmsj8XoGvC8xgmuxOvas88Q/0eK4Unz80ZAbw77hYpr5tX5EOpNV+lrfkeFUXStCY; AWSALBCORS=8D/0Y0XZYkiAXhwezofaJaxkYqTVpEBq8tvtWSzk0UJ/DnIfw2Yo6dZ0wuvejHK6jPX9R1S0mx7R3cM0SgTwa2S5ZUPY5XfzmvRiP1sPy7k7rMrrE/69VblhiYPTe8LqDOpP1EGbcvnaBvisAvCDXXrYAMLTaqWdf3DwwJaC2Ck8bJJp2ooEOv6Q7ogmyZy0yQy2Npp+DNipT/2K2xOOtQ8/HI3YI0lzSW3YbFdyfM2S+NYuEToatoZy2JsmTcirmsj8XoGvC8xgmuxOvas88Q/0eK4Unz80ZAbw77hYpr5tX5EOpNV+lrfkeFUXStCY; ADRUM_BTa=R:0|g:725024c6-63b2-4f92-89fd-e38cd3bd8d49|n:glassdoor_17d346a0-2ec1-4454-86b0-73b3b787aee9; ADRUM_BT1=R:0|i:1484610|e:171|d:136; ADRUM_BT2=R:0|i:1484605|e:170',\n",
    "}\n",
    "\n",
    "params = (\n",
    "    ('sort.sortType', 'RD'),\n",
    "    ('sort.ascending', 'false'),\n",
    ")"
   ],
   "metadata": {
    "collapsed": false,
    "pycharm": {
     "name": "#%%\n"
    }
   }
  },
  {
   "cell_type": "code",
   "execution_count": null,
   "outputs": [],
   "source": [
    "def scrap_web_meta():\n",
    "    \"\"\"\n",
    "    Scrap the data for Mata on Glassdoor.\n",
    "    \"\"\"\n",
    "    with open('meta.csv', 'w', newline=\"\", encoding='utf-8') as csvfile:\n",
    "        date_lst = []\n",
    "        interview_lst = []\n",
    "        question_lst = []\n",
    "        output = csv.writer(csvfile)\n",
    "        output.writerow(['Date', 'Interview', 'Question'])\n",
    "        with requests.get('https://www.glassdoor.com/Interview/Meta-Interview-Questions-E40772.htm', headers=headers, params=params, stream=True) as r:\n",
    "            soup = BeautifulSoup(r.text, 'html.parser')\n",
    "            helper(soup, date_lst, interview_lst, question_lst)\n",
    "            output.writerows([list(i) for i in zip(date_lst, interview_lst, question_lst)])\n",
    "        for i in range(2, 906):\n",
    "            date_lst = []\n",
    "            interview_lst = []\n",
    "            question_lst = []\n",
    "            time.sleep(random.randint(2, 6))\n",
    "            with requests.get('https://www.glassdoor.com/Interview/Meta-Interview-Questions-E40772_P{page}.htm'.format(page=i), headers=headers, params=params, stream=True) as r:\n",
    "                soup = BeautifulSoup(r.text, 'html.parser')\n",
    "                helper(soup, date_lst, interview_lst, question_lst)\n",
    "                output.writerows([list(i) for i in zip(date_lst, interview_lst, question_lst)])"
   ],
   "metadata": {
    "collapsed": false,
    "pycharm": {
     "name": "#%%\n"
    }
   }
  },
  {
   "cell_type": "code",
   "execution_count": null,
   "outputs": [],
   "source": [
    "scrap_web_meta()"
   ],
   "metadata": {
    "collapsed": false,
    "pycharm": {
     "name": "#%%\n"
    }
   }
  },
  {
   "cell_type": "code",
   "execution_count": 3,
   "outputs": [],
   "source": [
    "headers = {\n",
    "    'authority': 'www.glassdoor.com',\n",
    "    'cache-control': 'max-age=0',\n",
    "    'sec-ch-ua': '\" Not A;Brand\";v=\"99\", \"Chromium\";v=\"98\", \"Google Chrome\";v=\"98\"',\n",
    "    'sec-ch-ua-mobile': '?0',\n",
    "    'sec-ch-ua-platform': '\"Windows\"',\n",
    "    'upgrade-insecure-requests': '1',\n",
    "    'user-agent': 'Mozilla/5.0 (Windows NT 10.0; Win64; x64) AppleWebKit/537.36 (KHTML, like Gecko) Chrome/98.0.4758.102 Safari/537.36',\n",
    "    'accept': 'text/html,application/xhtml+xml,application/xml;q=0.9,image/avif,image/webp,image/apng,*/*;q=0.8,application/signed-exchange;v=b3;q=0.9',\n",
    "    'sec-fetch-site': 'none',\n",
    "    'sec-fetch-mode': 'navigate',\n",
    "    'sec-fetch-user': '?1',\n",
    "    'sec-fetch-dest': 'document',\n",
    "    'accept-language': 'en-US,en;q=0.9',\n",
    "    'cookie': 'gdId=8ef3ca8f-c6ab-4229-984f-836c0e50cc74; trs=https%3A%2F%2Fwww.google.com%2F:SEO:SEO:2022-02-16+19%3A15%3A28.635:undefined:undefined; G_ENABLED_IDPS=google; _optionalConsent=true; _gcl_au=1.1.1520881057.1645067731; _rdt_uuid=1645067731229.bd5dc2f9-980d-4523-8f52-93b654449406; __pdst=b6385663b09344cab93e4c5dee271e00; _gaexp=GAX1.2.pYgpv90rRNC40H5kkFZirQ.19130.1; _fbp=fb.1.1645067731411.1706211231; _pin_unauth=dWlkPU16WmlZVE0xWWpVdE9UUTROUzAwWVRkakxXSmlPV1F0Tm1JM01tUmxNV0kzTXpZeQ; drift_aid=69b753fa-0f76-4133-9073-a14bb591cd34; driftt_aid=69b753fa-0f76-4133-9073-a14bb591cd34; gclid=Cj0KCQiA3rKQBhCNARIsACUEW_apNRSfPRgKHtZ71UXWbx3FbfmJZyjpLkhnt0xjJLd61WDFBL8DaQQaApWKEALw_wcB; __gads=ID=1e25dbac7b40cf6d:T=1645067757:S=ALNI_Mb6V582ziqef3pnOio4MN5u6Y12lw; ki_u=2f048bb4-72da-efb7-3fcf-626e; ki_s=213982%3A0.0.0.0.0%3B218147%3A1.0.0.0.2; indeedCtk=1fsfr0o28u1fb801; _gid=GA1.2.222016421.1645666248; ht=%7B%22quantcast%22%3A%5B%22D%22%5D%7D; _gcl_aw=GCL.1645670846.Cj0KCQiA09eQBhCxARIsAAYRiykiuaxAOLesCJ3YlSTnMRnwXGoeAaTFdYUmRjCHy_1IpXBjt9aXVmcaAqfREALw_wcB; _gac_UA-2595786-1=1.1645670847.Cj0KCQiA09eQBhCxARIsAAYRiykiuaxAOLesCJ3YlSTnMRnwXGoeAaTFdYUmRjCHy_1IpXBjt9aXVmcaAqfREALw_wcB; ki_r=; g_state={\"i_l\":1,\"i_p\":1645679486216}; uc=8013A8318C98C517E3CFBDDD0B55DDB0707D539B2805FC918DE5F9156C2BA9CF2A70FF309AE201C56F06A39ED799E316FA3A449DA2CFF5C1DF51EBD8A6AE0D8222281CECB26A2740AB65D4F6F06D28F049EF40E1676DE8FC58B77490C81F417949638519377F928E355F118CAAB3C201D09116207BD8D82F2EC07C40078089D77292B1DCFD9124E0DDB7F1A369885641; JSESSIONID=900D5A9819B14D8426A2423E1719732A; GSESSIONID=8ef3ca8f-c6ab-4229-984f-836c0e50cc74+1645721897458; cass=1; gdsid=1645721897458:1645721897458:1F9B164C0D2A1D2DBA23AFB7AF6499DB; at=dPTsKzdTw_oT-ke0viKd74Y6GQxcQt39TyrdVEcU81fbT0jKXKxGx7d3ctCG1Y2qVf9YAaX4Y2JapPsQ8_tw-X_vDSLs3GLSCNNJ9PuzOS_GWLiUXdcsTfjb3AHG42jH_mihNoT28gBMF5pjVhKBcMjPkeON5fF7pFBUsXbz86wlyMsXomsFEk4X1dowLwkMw-FuTcTB82tRD-kSCAeP0YI7V4LC31oVeKNutgG3kczGU6DPMZNFVB7u_r3j7ebuTspNV_WTa6engKqUhYt9dCek_50cgpPqvqRrrN4tR-KIJrEmP9ws9uC6IFlYf3_aJuT17BJFhghDUf-milJveunMdybjrhoWueIm97NPQsG9md6D3qrMfUwszpSXktPjiY1loRdrsYNHjsC4HnJg6wVGsXtD-oqA0rU-bWLqpG-5JsrRL5EVsZ3gtApqls3QvFqK7wjjpmHRrl21wHsxU7T6Kd_YZlG_ob2J_BBjICzfyczGR1Dz4pv1RtxAmzh-MXyLqhPBkNtqojP5HumABuXy7W83_ZcNz2bBgADfroeixvZwObTkwaEFCv6s59kKlP7Q037_wxRBF6Yqw8dGOR64fSFxoFM45xrlfg9OXahSMA1CEx_wjd-GAUE7l2jpYzSiSjiCiypabNFyKeIylox3Y8Wm8eUJC3cFhivPzAvMZnw6mk0zf3h8yTExw5_bf5XY7OHOOufNeIQDsdglUBW2yr58kqfyNQCHWmxYVoqIzD9WFxGh_yg4GpWpwZsQVyX0Y57u49TfNS-te1FYe0Y5W3aHl7u0Jyx_0Vn_t1j0VsuX5IEC8AGjanFKhw0bWYa2WH16NA7XSeTk8gUVIAHDIlE8COQkENy07_cZAzR1LEyipqiBy-Ns65qBr8s6OmI; asst=1645721897.0; __cf_bm=IHiwE4R36AvNQoDxO5VZr_Ksf8Lutb4qfaadojV4O_Q-1645721898-0-ARKh6AE+lYQocOSkRKKUfgxkG6aupeoeJaNKv5HyFpuuAgEEDqKL5XWnlmFAQf9j8PfxmgS4eBLYIu8WAzVN3Mg=; _ga=GA1.2.312675199.1645067731; OptanonConsent=isGpcEnabled=0&datestamp=Thu+Feb+24+2022+10%3A58%3A48+GMT-0600+(Central+Standard+Time)&version=6.28.0&isIABGlobal=false&hosts=&consentId=9fc62b5e-f280-4d5d-8b62-bdfca0c52bbb&interactionCount=1&landingPath=NotLandingPage&groups=C0001%3A1%2CC0003%3A1%2CC0002%3A1%2CC0004%3A1%2CC0017%3A1&AwaitingReconsent=false; ki_t=1645067757578%3B1645721900821%3B1645721929064%3B4%3B80; _dc_gtm_UA-2595786-1=1; _ga_RC95PMVB3H=GS1.1.1645721897.7.1.1645722014.60; AWSALB=Qq32OTDPYZwvx59DLQUS+55MTaNM9wTv8DGOC/SGxNP2ofeNm41IKXwXrDaKsq4tU7xuJRaHrhzqMCxgYB1vW/yMWUNUzcMD+kv/dkzs6KU1ae2y1WSiID0jJGEDJfBTLLnLn7Xag4IpI3ttsV2P+kNW5u4d9tqaKXW5x5wEpPRJWTqwo3BJfrXEz5tPO31T87sLI5Pnx52GQYZFMQKTDV+AMUdQQJexZEuV/hvuBlTUfy8M6/heLTbhA2WZ4qwGCt3+g6/4+TyVqr2Mdo3XhxedM4pOKnSuvW1amkD2wpkO5BswU8GDChQrBoSJRP4t; AWSALBCORS=Qq32OTDPYZwvx59DLQUS+55MTaNM9wTv8DGOC/SGxNP2ofeNm41IKXwXrDaKsq4tU7xuJRaHrhzqMCxgYB1vW/yMWUNUzcMD+kv/dkzs6KU1ae2y1WSiID0jJGEDJfBTLLnLn7Xag4IpI3ttsV2P+kNW5u4d9tqaKXW5x5wEpPRJWTqwo3BJfrXEz5tPO31T87sLI5Pnx52GQYZFMQKTDV+AMUdQQJexZEuV/hvuBlTUfy8M6/heLTbhA2WZ4qwGCt3+g6/4+TyVqr2Mdo3XhxedM4pOKnSuvW1amkD2wpkO5BswU8GDChQrBoSJRP4t; ADRUM_BTa=R:26|g:7e81a9af-f18c-4191-98f1-1a1afd20c079|n:glassdoor_17d346a0-2ec1-4454-86b0-73b3b787aee9; SameSite=None; fpvc=833; bs=yhLESfz9dEwsr-m_a09rZA:87aM2uq37wsIo_byTtb7bzBhDJJHBBZo7iWz_QCVo6dQvN_A2abhdOmrDjR5jAA5qgvWDPQ2AweEKEhf47nlupucS_An1g6TPDlgN2qwnKY:_Us2hmGgLLejvu2E7HzGdAFMayedcFOJljTLgse1sNY',\n",
    "}\n",
    "\n",
    "params = (\n",
    "    ('sort.sortType', 'RD'),\n",
    "    ('sort.ascending', 'false'),\n",
    ")"
   ],
   "metadata": {
    "collapsed": false,
    "pycharm": {
     "name": "#%%\n"
    }
   }
  },
  {
   "cell_type": "code",
   "execution_count": 4,
   "outputs": [],
   "source": [
    "def scrap_web_amazon():\n",
    "    \"\"\"\n",
    "    Scrap data for Amazon on Glassdoor.\n",
    "    \"\"\"\n",
    "    with open('amazon.csv', 'w', newline=\"\", encoding='utf-8') as csvfile:\n",
    "        date_lst = []\n",
    "        interview_lst = []\n",
    "        question_lst = []\n",
    "        output = csv.writer(csvfile)\n",
    "        output.writerow(['Date', 'Interview', 'Question'])\n",
    "        with requests.get('https://www.glassdoor.com/Interview/Amazon-Interview-Questions-E6036.htm', headers=headers, params=params, stream=True) as r:\n",
    "            soup = BeautifulSoup(r.text, 'html.parser')\n",
    "            helper(soup, date_lst, interview_lst, question_lst)\n",
    "            output.writerows([list(i) for i in zip(date_lst, interview_lst, question_lst)])\n",
    "        for i in range(2, 3835):\n",
    "            date_lst = []\n",
    "            interview_lst = []\n",
    "            question_lst = []\n",
    "            time.sleep(random.randint(2, 6))\n",
    "            with requests.get('https://www.glassdoor.com/Interview/Amazon-Interview-Questions-E6036_P{page}.htm'.format(page=i), headers=headers, params=params, stream=True) as r:\n",
    "                soup = BeautifulSoup(r.text, 'html.parser')\n",
    "                helper(soup, date_lst, interview_lst, question_lst)\n",
    "                output.writerows([list(i) for i in zip(date_lst, interview_lst, question_lst)])"
   ],
   "metadata": {
    "collapsed": false,
    "pycharm": {
     "name": "#%%\n"
    }
   }
  },
  {
   "cell_type": "code",
   "execution_count": 5,
   "outputs": [],
   "source": [
    "scrap_web_amazon()"
   ],
   "metadata": {
    "collapsed": false,
    "pycharm": {
     "name": "#%%\n"
    }
   }
  },
  {
   "cell_type": "code",
   "execution_count": 6,
   "outputs": [],
   "source": [
    "headers = {\n",
    "    'authority': 'www.glassdoor.com',\n",
    "    'cache-control': 'max-age=0',\n",
    "    'sec-ch-ua': '\" Not A;Brand\";v=\"99\", \"Chromium\";v=\"98\", \"Google Chrome\";v=\"98\"',\n",
    "    'sec-ch-ua-mobile': '?0',\n",
    "    'sec-ch-ua-platform': '\"Windows\"',\n",
    "    'upgrade-insecure-requests': '1',\n",
    "    'user-agent': 'Mozilla/5.0 (Windows NT 10.0; Win64; x64) AppleWebKit/537.36 (KHTML, like Gecko) Chrome/98.0.4758.102 Safari/537.36',\n",
    "    'accept': 'text/html,application/xhtml+xml,application/xml;q=0.9,image/avif,image/webp,image/apng,*/*;q=0.8,application/signed-exchange;v=b3;q=0.9',\n",
    "    'sec-fetch-site': 'none',\n",
    "    'sec-fetch-mode': 'navigate',\n",
    "    'sec-fetch-user': '?1',\n",
    "    'sec-fetch-dest': 'document',\n",
    "    'accept-language': 'en-US,en;q=0.9',\n",
    "    'cookie': 'gdId=8ef3ca8f-c6ab-4229-984f-836c0e50cc74; trs=https%3A%2F%2Fwww.google.com%2F:SEO:SEO:2022-02-16+19%3A15%3A28.635:undefined:undefined; G_ENABLED_IDPS=google; _optionalConsent=true; _gcl_au=1.1.1520881057.1645067731; _rdt_uuid=1645067731229.bd5dc2f9-980d-4523-8f52-93b654449406; __pdst=b6385663b09344cab93e4c5dee271e00; _gaexp=GAX1.2.pYgpv90rRNC40H5kkFZirQ.19130.1; _fbp=fb.1.1645067731411.1706211231; _pin_unauth=dWlkPU16WmlZVE0xWWpVdE9UUTROUzAwWVRkakxXSmlPV1F0Tm1JM01tUmxNV0kzTXpZeQ; drift_aid=69b753fa-0f76-4133-9073-a14bb591cd34; driftt_aid=69b753fa-0f76-4133-9073-a14bb591cd34; gclid=Cj0KCQiA3rKQBhCNARIsACUEW_apNRSfPRgKHtZ71UXWbx3FbfmJZyjpLkhnt0xjJLd61WDFBL8DaQQaApWKEALw_wcB; __gads=ID=1e25dbac7b40cf6d:T=1645067757:S=ALNI_Mb6V582ziqef3pnOio4MN5u6Y12lw; ki_u=2f048bb4-72da-efb7-3fcf-626e; ki_s=213982%3A0.0.0.0.0%3B218147%3A1.0.0.0.2; indeedCtk=1fsfr0o28u1fb801; _gid=GA1.2.222016421.1645666248; ht=%7B%22quantcast%22%3A%5B%22D%22%5D%7D; _gcl_aw=GCL.1645670846.Cj0KCQiA09eQBhCxARIsAAYRiykiuaxAOLesCJ3YlSTnMRnwXGoeAaTFdYUmRjCHy_1IpXBjt9aXVmcaAqfREALw_wcB; _gac_UA-2595786-1=1.1645670847.Cj0KCQiA09eQBhCxARIsAAYRiykiuaxAOLesCJ3YlSTnMRnwXGoeAaTFdYUmRjCHy_1IpXBjt9aXVmcaAqfREALw_wcB; ki_r=; g_state={\"i_l\":1,\"i_p\":1645679486216}; uc=8013A8318C98C517E3CFBDDD0B55DDB0707D539B2805FC918DE5F9156C2BA9CF2A70FF309AE201C56F06A39ED799E316FA3A449DA2CFF5C1DF51EBD8A6AE0D8222281CECB26A2740AB65D4F6F06D28F049EF40E1676DE8FC58B77490C81F417949638519377F928E355F118CAAB3C201D09116207BD8D82F2EC07C40078089D77292B1DCFD9124E0DDB7F1A369885641; SameSite=None; JSESSIONID=BA0A59E77B9977E0AAEE64155079C0BA; GSESSIONID=8ef3ca8f-c6ab-4229-984f-836c0e50cc74+1645748315101; cass=1; gdsid=1645748315101:1645748315101:4171A39DF5B129BD04931897A6C88EFB; at=V8V3vtUQCpOGp3I3wdVuanqxwNJY1QxbQAFcgcTYf9uPaJzfZxqSbaBewycDYAxOE5qnAM69F-Z-TyMyU07tZ1aEG4Eh7SbrF6DhtGGbE87u5MIee-7BMaD5vx21YbHhjxAwIx1OxNlA3DH2qyICsri207yu6iuGI_-kAG55TFPpq08muXJTcuPRUwrQrvZIUs-FlnIuNHHukUdQLtuQuNTXPNCENIAxrTwBtZUwU9o9tlJZCE8-bNC6OBWmKa90AtGUsQaYZes0nhst3Emue0Fvd8N5vOLJ1Hbn7ra_1XP5MO3ZPzutLGgWCBtpvHEXIpxs-IKh1aIH2AmU0RbFLVTj8JpinSZeeMtrsKwrUoiDJIPzyxFhp_abH-zUWhfHJxR6EHpPDRF3jgwaCtKdX1wfiLT0_cWm6yDd_spU84pi7rRY4INAAbsuWMyOrlObZWhPG_dUQ90GYaYHYoyjXiV5ZofesRN32ivmae_2dJMGfkuzoBOPcD-RgP2xQxrMX-mLqbaYNKXcTPZCUOKd0it687VIzX3Yu1qvC-rNDwtXzC-fWOJpv35ElQZlfzZegyf2z1nDw0Mhqyo9DtJm9JSj9xMJ-mPDUTyZgMtLcQjzFxllERYqWXMpWEhrgTWXor6gR9FtZdCA6kFj0F-IUxl_CTIo4stcX6Ayp5JMc6XbRPXl6B1lnZT6_tjvAQTJM-gsMWpNgXSfANA0NDQEX89MR0hbDX6TwoDAWVw1JHbr1JsxzQ5j_2vpdrRcumQxWGi7xDtRgjzPtGt8cW9ekHJ6gNe71lkqwBtHlw5Q9JbduEIwgU8bj8UZ5BxhTtKXOdirtTw52js_nCItVGERP3JfV4BLhcHdGnEJ7RfDtrq5X3UNaM1GqVCBLJG1Nxmy4rQ; asst=1645748315.0; bs=fC9MfCa5bOoHrTf5l-ftVQ:DMDaWFt0xPHmx2EQt1RRDeEqRCYVYB45cO3Z9ojlCLuybV71xx-YE9bjCNNv6yS9f2Os6iOkLEA1rNUXT454p1S7x065dga-NX_TvTfBUO8:wNuuetOW9PguSN9-5225AVVOodUgwDjbC94NrS-r1s8; __cf_bm=_xtVbnA._f35Wqhgt_wx5uciHnp8iz.5aE3PNc.iK5k-1645748315-0-AfT3aGWd4uYbHC8y6GoB+ldgZR+oRqt7XcAlyYS6XRYYmzWuZFfZmzxoU59fZBD0aRYos6KWYNxHKZIykmz9ckg=; _dc_gtm_UA-2595786-1=1; OptanonConsent=isGpcEnabled=0&datestamp=Thu+Feb+24+2022+18%3A18%3A49+GMT-0600+(Central+Standard+Time)&version=6.28.0&isIABGlobal=false&hosts=&consentId=9fc62b5e-f280-4d5d-8b62-bdfca0c52bbb&interactionCount=1&landingPath=NotLandingPage&groups=C0001%3A1%2CC0003%3A1%2CC0002%3A1%2CC0004%3A1%2CC0017%3A1&AwaitingReconsent=false; ki_t=1645067757578%3B1645721900821%3B1645748330568%3B4%3B83; _ga=GA1.2.312675199.1645067731; _ga_RC95PMVB3H=GS1.1.1645748316.8.1.1645748335.41; _ga_844LX017SK=GS1.1.1645748316.1.1.1645748335.0; AWSALB=gn+CneFrOuSzQg/PARD9rs23o+cZJZ3tPVYkDg2jhxGVtLTN4uDtLH/aXI1ZWYnmUuMCNnQ9LdCK1m7uRM4S8WCMfQTM/3Kyei0mRDEybsyY8S9ooXRS9X5rPhs/c9SEkCmZ2QPW2J7cqEmFBcl6q9dGEpxg2yxOxp7UReL2mTrAGNelhn72CyZM8RpZlE3dnyCDoXkfDrg9q1XW7hl9zJNR4DH3EaUieqjYF/0QZUysEfVPl0gWd4vUsrIso72u2jJY/DDt8GFIJX4g2GsJCaopjnmJwGB2aAJVvehPJkQLDelgIGYU66b0alTGNfAk; AWSALBCORS=gn+CneFrOuSzQg/PARD9rs23o+cZJZ3tPVYkDg2jhxGVtLTN4uDtLH/aXI1ZWYnmUuMCNnQ9LdCK1m7uRM4S8WCMfQTM/3Kyei0mRDEybsyY8S9ooXRS9X5rPhs/c9SEkCmZ2QPW2J7cqEmFBcl6q9dGEpxg2yxOxp7UReL2mTrAGNelhn72CyZM8RpZlE3dnyCDoXkfDrg9q1XW7hl9zJNR4DH3EaUieqjYF/0QZUysEfVPl0gWd4vUsrIso72u2jJY/DDt8GFIJX4g2GsJCaopjnmJwGB2aAJVvehPJkQLDelgIGYU66b0alTGNfAk; ADRUM_BTa=R:26|g:49d436eb-c28e-48e6-92e8-d8262bfacc3c|n:glassdoor_17d346a0-2ec1-4454-86b0-73b3b787aee9; fpvc=834',\n",
    "}\n",
    "\n",
    "params = (\n",
    "    ('sort.sortType', 'RD'),\n",
    "    ('sort.ascending', 'false'),\n",
    ")"
   ],
   "metadata": {
    "collapsed": false,
    "pycharm": {
     "name": "#%%\n"
    }
   }
  },
  {
   "cell_type": "code",
   "execution_count": 7,
   "outputs": [],
   "source": [
    "def scrap_web_netflix():\n",
    "    \"\"\"\n",
    "    Scrap the data for Netflix on Glassdoor\n",
    "    \"\"\"\n",
    "    info_dict = {}\n",
    "    date_lst = []\n",
    "    interview_lst = []\n",
    "    question_lst = []\n",
    "\n",
    "    response = requests.get('https://www.glassdoor.com/Interview/Netflix-Interview-Questions-E11891.htm', headers=headers, params=params)\n",
    "    soup = BeautifulSoup(response.text, 'html.parser')\n",
    "    helper(soup, date_lst, interview_lst, question_lst)\n",
    "    for i in range(2, 95):\n",
    "        time.sleep(random.randint(2, 4))\n",
    "        response = requests.get('https://www.glassdoor.com/Interview/Netflix-Interview-Questions-E11891_P{page}.htm'.format(page=i), headers=headers, params=params)\n",
    "        soup = BeautifulSoup(response.text, 'html.parser')\n",
    "        helper(soup, date_lst, interview_lst, question_lst)\n",
    "    info_dict['Date'] = date_lst\n",
    "    info_dict['Interview'] = interview_lst\n",
    "    info_dict['Question'] = question_lst\n",
    "    return pd.DataFrame(info_dict)"
   ],
   "metadata": {
    "collapsed": false,
    "pycharm": {
     "name": "#%%\n"
    }
   }
  },
  {
   "cell_type": "code",
   "execution_count": 8,
   "outputs": [],
   "source": [
    "netflix_df = scrap_web_netflix()"
   ],
   "metadata": {
    "collapsed": false,
    "pycharm": {
     "name": "#%%\n"
    }
   }
  },
  {
   "cell_type": "code",
   "execution_count": 9,
   "outputs": [
    {
     "data": {
      "text/plain": "         Date                                          Interview  \\\n0  2022-02-22  Efficient process with immediate responses. Fr...   \n1  2022-02-22  Smooth and well coordinated. Shuffled between ...   \n2  2022-02-20  They're as easy or difficult as you make them;...   \n3  2022-02-19  Technical Screen assessed online with five que...   \n4  2022-02-17  Before the interview, I. heard that the hiring...   \n\n                                            Question  \n0            Describe your background in publicity.   \n1                           What shows do you watch?  \n2  They're as easy or difficult as you make them;...  \n3  Asked about a time that I disagreed with a tea...  \n4  As a designer, what is your methodology for ta...  ",
      "text/html": "<div>\n<style scoped>\n    .dataframe tbody tr th:only-of-type {\n        vertical-align: middle;\n    }\n\n    .dataframe tbody tr th {\n        vertical-align: top;\n    }\n\n    .dataframe thead th {\n        text-align: right;\n    }\n</style>\n<table border=\"1\" class=\"dataframe\">\n  <thead>\n    <tr style=\"text-align: right;\">\n      <th></th>\n      <th>Date</th>\n      <th>Interview</th>\n      <th>Question</th>\n    </tr>\n  </thead>\n  <tbody>\n    <tr>\n      <th>0</th>\n      <td>2022-02-22</td>\n      <td>Efficient process with immediate responses. Fr...</td>\n      <td>Describe your background in publicity.</td>\n    </tr>\n    <tr>\n      <th>1</th>\n      <td>2022-02-22</td>\n      <td>Smooth and well coordinated. Shuffled between ...</td>\n      <td>What shows do you watch?</td>\n    </tr>\n    <tr>\n      <th>2</th>\n      <td>2022-02-20</td>\n      <td>They're as easy or difficult as you make them;...</td>\n      <td>They're as easy or difficult as you make them;...</td>\n    </tr>\n    <tr>\n      <th>3</th>\n      <td>2022-02-19</td>\n      <td>Technical Screen assessed online with five que...</td>\n      <td>Asked about a time that I disagreed with a tea...</td>\n    </tr>\n    <tr>\n      <th>4</th>\n      <td>2022-02-17</td>\n      <td>Before the interview, I. heard that the hiring...</td>\n      <td>As a designer, what is your methodology for ta...</td>\n    </tr>\n  </tbody>\n</table>\n</div>"
     },
     "execution_count": 9,
     "metadata": {},
     "output_type": "execute_result"
    }
   ],
   "source": [
    "netflix_df.head()"
   ],
   "metadata": {
    "collapsed": false,
    "pycharm": {
     "name": "#%%\n"
    }
   }
  },
  {
   "cell_type": "code",
   "execution_count": 10,
   "outputs": [],
   "source": [
    "netflix_df.to_csv(os.getcwd()+'/netflix.csv')"
   ],
   "metadata": {
    "collapsed": false,
    "pycharm": {
     "name": "#%%\n"
    }
   }
  },
  {
   "cell_type": "code",
   "execution_count": null,
   "outputs": [],
   "source": [],
   "metadata": {
    "collapsed": false,
    "pycharm": {
     "name": "#%%\n"
    }
   }
  }
 ],
 "metadata": {
  "kernelspec": {
   "display_name": "Python 3",
   "language": "python",
   "name": "python3"
  },
  "language_info": {
   "codemirror_mode": {
    "name": "ipython",
    "version": 2
   },
   "file_extension": ".py",
   "mimetype": "text/x-python",
   "name": "python",
   "nbconvert_exporter": "python",
   "pygments_lexer": "ipython2",
   "version": "2.7.6"
  }
 },
 "nbformat": 4,
 "nbformat_minor": 0
}
